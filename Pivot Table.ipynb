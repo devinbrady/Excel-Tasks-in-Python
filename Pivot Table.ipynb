{
 "cells": [
  {
   "cell_type": "markdown",
   "metadata": {
    "collapsed": true
   },
   "source": [
    "#Demo: Pivot Table\n",
    "\n",
    "##The original question: \n",
    "\n",
    "*I'm working with a voter history file that has a row for each time a voter voted with the date (so if they voted in the general elections of 2008, 2010, 2012, 2014 then there are 4 rows) like this:*\n",
    "\n",
    "    Voter ID  |  Election\n",
    "    000001    | 09/13/2012\n",
    "    000001    | 11/06/2012\n",
    "    000002    | 09/13/2012\n",
    "    000003    | 09/13/2012\n",
    "    000003    | 11/06/2012\n",
    "\n",
    "\n",
    "*I'd like to alter the table so it's one row for each voter and one column for each election:*\n",
    "\n",
    "    Voter ID | Sep. 2012 | Nov. 2012\n",
    "    000001   | Yes       | Yes\n",
    "    000002   | No        | Yes\n",
    "    000003   | Yes       | Yes\n"
   ]
  },
  {
   "cell_type": "markdown",
   "metadata": {},
   "source": [
    "1) We import the Pandas library. Pandas is not included with Python by default, so if this line causes an error, run this command on the terminal: \n",
    "\n",
    "    $ pip install pandas\n"
   ]
  },
  {
   "cell_type": "code",
   "execution_count": 22,
   "metadata": {
    "collapsed": true
   },
   "outputs": [],
   "source": [
    "import pandas as pd"
   ]
  },
  {
   "cell_type": "markdown",
   "metadata": {},
   "source": [
    "2) Import the voter file using Panda's read_csv function. pd is the alias for Pandas, which we defined in Line 1. "
   ]
  },
  {
   "cell_type": "code",
   "execution_count": 23,
   "metadata": {
    "collapsed": false
   },
   "outputs": [],
   "source": [
    "voter_file = pd.read_csv('voter_file_n5.csv')"
   ]
  },
  {
   "cell_type": "markdown",
   "metadata": {},
   "source": [
    "This creates a 'dataframe' - a term borrowed from R. It's basically one table, with rows and columns. \n",
    "\n",
    "In an iPython Notebook, typing a variable name alone will print the contents of that variable. Here's our voter file:"
   ]
  },
  {
   "cell_type": "code",
   "execution_count": 24,
   "metadata": {
    "collapsed": false
   },
   "outputs": [
    {
     "data": {
      "text/html": [
       "<div style=\"max-height:1000px;max-width:1500px;overflow:auto;\">\n",
       "<table border=\"1\" class=\"dataframe\">\n",
       "  <thead>\n",
       "    <tr style=\"text-align: right;\">\n",
       "      <th></th>\n",
       "      <th>Voter ID</th>\n",
       "      <th>Election</th>\n",
       "    </tr>\n",
       "  </thead>\n",
       "  <tbody>\n",
       "    <tr>\n",
       "      <th>0</th>\n",
       "      <td> 1</td>\n",
       "      <td> 09/13/2012</td>\n",
       "    </tr>\n",
       "    <tr>\n",
       "      <th>1</th>\n",
       "      <td> 1</td>\n",
       "      <td> 11/06/2012</td>\n",
       "    </tr>\n",
       "    <tr>\n",
       "      <th>2</th>\n",
       "      <td> 2</td>\n",
       "      <td> 09/13/2012</td>\n",
       "    </tr>\n",
       "    <tr>\n",
       "      <th>3</th>\n",
       "      <td> 3</td>\n",
       "      <td> 09/13/2012</td>\n",
       "    </tr>\n",
       "    <tr>\n",
       "      <th>4</th>\n",
       "      <td> 3</td>\n",
       "      <td> 11/06/2012</td>\n",
       "    </tr>\n",
       "  </tbody>\n",
       "</table>\n",
       "</div>"
      ],
      "text/plain": [
       "   Voter ID    Election\n",
       "0         1  09/13/2012\n",
       "1         1  11/06/2012\n",
       "2         2  09/13/2012\n",
       "3         3  09/13/2012\n",
       "4         3  11/06/2012"
      ]
     },
     "execution_count": 24,
     "metadata": {},
     "output_type": "execute_result"
    }
   ],
   "source": [
    "voter_file"
   ]
  },
  {
   "cell_type": "markdown",
   "metadata": {},
   "source": [
    "3) Add a column called 'Voted' to the dataframe. "
   ]
  },
  {
   "cell_type": "code",
   "execution_count": 25,
   "metadata": {
    "collapsed": false
   },
   "outputs": [
    {
     "data": {
      "text/html": [
       "<div style=\"max-height:1000px;max-width:1500px;overflow:auto;\">\n",
       "<table border=\"1\" class=\"dataframe\">\n",
       "  <thead>\n",
       "    <tr style=\"text-align: right;\">\n",
       "      <th></th>\n",
       "      <th>Voter ID</th>\n",
       "      <th>Election</th>\n",
       "      <th>Voted</th>\n",
       "    </tr>\n",
       "  </thead>\n",
       "  <tbody>\n",
       "    <tr>\n",
       "      <th>0</th>\n",
       "      <td> 1</td>\n",
       "      <td> 09/13/2012</td>\n",
       "      <td> Yes</td>\n",
       "    </tr>\n",
       "    <tr>\n",
       "      <th>1</th>\n",
       "      <td> 1</td>\n",
       "      <td> 11/06/2012</td>\n",
       "      <td> Yes</td>\n",
       "    </tr>\n",
       "    <tr>\n",
       "      <th>2</th>\n",
       "      <td> 2</td>\n",
       "      <td> 09/13/2012</td>\n",
       "      <td> Yes</td>\n",
       "    </tr>\n",
       "    <tr>\n",
       "      <th>3</th>\n",
       "      <td> 3</td>\n",
       "      <td> 09/13/2012</td>\n",
       "      <td> Yes</td>\n",
       "    </tr>\n",
       "    <tr>\n",
       "      <th>4</th>\n",
       "      <td> 3</td>\n",
       "      <td> 11/06/2012</td>\n",
       "      <td> Yes</td>\n",
       "    </tr>\n",
       "  </tbody>\n",
       "</table>\n",
       "</div>"
      ],
      "text/plain": [
       "   Voter ID    Election Voted\n",
       "0         1  09/13/2012   Yes\n",
       "1         1  11/06/2012   Yes\n",
       "2         2  09/13/2012   Yes\n",
       "3         3  09/13/2012   Yes\n",
       "4         3  11/06/2012   Yes"
      ]
     },
     "execution_count": 25,
     "metadata": {},
     "output_type": "execute_result"
    }
   ],
   "source": [
    "voter_file['Voted'] = 'Yes'\n",
    "voter_file"
   ]
  },
  {
   "cell_type": "markdown",
   "metadata": {},
   "source": [
    "4) Pivot the dataframe on its Voter Id and Election columns. This creates a new dataframe. "
   ]
  },
  {
   "cell_type": "code",
   "execution_count": 26,
   "metadata": {
    "collapsed": false
   },
   "outputs": [
    {
     "data": {
      "text/html": [
       "<div style=\"max-height:1000px;max-width:1500px;overflow:auto;\">\n",
       "<table border=\"1\" class=\"dataframe\">\n",
       "  <thead>\n",
       "    <tr>\n",
       "      <th></th>\n",
       "      <th colspan=\"2\" halign=\"left\">Voted</th>\n",
       "    </tr>\n",
       "    <tr>\n",
       "      <th>Election</th>\n",
       "      <th>09/13/2012</th>\n",
       "      <th>11/06/2012</th>\n",
       "    </tr>\n",
       "    <tr>\n",
       "      <th>Voter ID</th>\n",
       "      <th></th>\n",
       "      <th></th>\n",
       "    </tr>\n",
       "  </thead>\n",
       "  <tbody>\n",
       "    <tr>\n",
       "      <th>1</th>\n",
       "      <td> Yes</td>\n",
       "      <td> Yes</td>\n",
       "    </tr>\n",
       "    <tr>\n",
       "      <th>2</th>\n",
       "      <td> Yes</td>\n",
       "      <td> NaN</td>\n",
       "    </tr>\n",
       "    <tr>\n",
       "      <th>3</th>\n",
       "      <td> Yes</td>\n",
       "      <td> Yes</td>\n",
       "    </tr>\n",
       "  </tbody>\n",
       "</table>\n",
       "</div>"
      ],
      "text/plain": [
       "              Voted           \n",
       "Election 09/13/2012 11/06/2012\n",
       "Voter ID                      \n",
       "1               Yes        Yes\n",
       "2               Yes        NaN\n",
       "3               Yes        Yes"
      ]
     },
     "execution_count": 26,
     "metadata": {},
     "output_type": "execute_result"
    }
   ],
   "source": [
    "voter_election_pivot = voter_file.pivot('Voter ID', 'Election')\n",
    "voter_election_pivot"
   ]
  },
  {
   "cell_type": "markdown",
   "metadata": {},
   "source": [
    "5) NaN, like NULL or '', is an empty cell in the dataframe. Fill all the NaNs with \"No\"."
   ]
  },
  {
   "cell_type": "code",
   "execution_count": 27,
   "metadata": {
    "collapsed": false
   },
   "outputs": [
    {
     "data": {
      "text/html": [
       "<div style=\"max-height:1000px;max-width:1500px;overflow:auto;\">\n",
       "<table border=\"1\" class=\"dataframe\">\n",
       "  <thead>\n",
       "    <tr>\n",
       "      <th></th>\n",
       "      <th colspan=\"2\" halign=\"left\">Voted</th>\n",
       "    </tr>\n",
       "    <tr>\n",
       "      <th>Election</th>\n",
       "      <th>09/13/2012</th>\n",
       "      <th>11/06/2012</th>\n",
       "    </tr>\n",
       "    <tr>\n",
       "      <th>Voter ID</th>\n",
       "      <th></th>\n",
       "      <th></th>\n",
       "    </tr>\n",
       "  </thead>\n",
       "  <tbody>\n",
       "    <tr>\n",
       "      <th>1</th>\n",
       "      <td> Yes</td>\n",
       "      <td> Yes</td>\n",
       "    </tr>\n",
       "    <tr>\n",
       "      <th>2</th>\n",
       "      <td> Yes</td>\n",
       "      <td>  No</td>\n",
       "    </tr>\n",
       "    <tr>\n",
       "      <th>3</th>\n",
       "      <td> Yes</td>\n",
       "      <td> Yes</td>\n",
       "    </tr>\n",
       "  </tbody>\n",
       "</table>\n",
       "</div>"
      ],
      "text/plain": [
       "              Voted           \n",
       "Election 09/13/2012 11/06/2012\n",
       "Voter ID                      \n",
       "1               Yes        Yes\n",
       "2               Yes         No\n",
       "3               Yes        Yes"
      ]
     },
     "execution_count": 27,
     "metadata": {},
     "output_type": "execute_result"
    }
   ],
   "source": [
    "voter_election_pivot = voter_election_pivot.fillna('No')\n",
    "voter_election_pivot"
   ]
  },
  {
   "cell_type": "markdown",
   "metadata": {},
   "source": [
    "6) Save the pivot dataframe to a CSV. Viola! "
   ]
  },
  {
   "cell_type": "code",
   "execution_count": 28,
   "metadata": {
    "collapsed": true
   },
   "outputs": [],
   "source": [
    "voter_election_pivot.to_csv('voter_election_pivot.csv')"
   ]
  },
  {
   "cell_type": "code",
   "execution_count": null,
   "metadata": {
    "collapsed": true
   },
   "outputs": [],
   "source": []
  }
 ],
 "metadata": {
  "kernelspec": {
   "display_name": "Python 2",
   "language": "python",
   "name": "python2"
  },
  "language_info": {
   "codemirror_mode": {
    "name": "ipython",
    "version": 2
   },
   "file_extension": ".py",
   "mimetype": "text/x-python",
   "name": "python",
   "nbconvert_exporter": "python",
   "pygments_lexer": "ipython2",
   "version": "2.7.6"
  }
 },
 "nbformat": 4,
 "nbformat_minor": 0
}
